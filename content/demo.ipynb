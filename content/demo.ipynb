{
 "cells": [
  {
   "cell_type": "code",
   "execution_count": null,
   "metadata": {},
   "outputs": [],
   "source": [
    "import CoolProp\n",
    "print(CoolProp.__version__, CoolProp.__gitrevision__)\n",
    "\n",
    "from CoolProp.CoolProp import PropsSI\n",
    "\n",
    "# 정상적으로 불러오면, 최신버전인 6.4.x으로 시작하는 글자가 아래에 보입니다\n",
    "# 6.4.1 3cd0500d029447481b3ad0ad7fe47827d1cf78b7"
   ]
  },
  {
   "cell_type": "code",
   "execution_count": null,
   "metadata": {},
   "outputs": [],
   "source": [
    "# Density [kg/m3] of Steam/Water at 10 bar(10 x 1e5 Pa) and 250'C\n",
    "PropsSI('D', 'T', 273.15 + 250 , 'P', 10e5, 'Water')\n",
    "\n",
    "# 4.296515473420293"
   ]
  }
 ],
 "metadata": {
  "kernelspec": {
   "display_name": "Python 3",
   "language": "python",
   "name": "python3"
  },
  "language_info": {
   "codemirror_mode": {
    "name": "ipython",
    "version": 3
   },
   "file_extension": ".py",
   "mimetype": "text/x-python",
   "name": "python",
   "nbconvert_exporter": "python",
   "pygments_lexer": "ipython3",
   "version": "3.10.8"
  }
 },
 "nbformat": 4,
 "nbformat_minor": 4
}
